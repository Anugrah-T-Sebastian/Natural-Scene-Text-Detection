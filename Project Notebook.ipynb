{
  "nbformat": 4,
  "nbformat_minor": 0,
  "metadata": {
    "colab": {
      "name": "Project",
      "provenance": [],
      "collapsed_sections": []
    },
    "kernelspec": {
      "name": "python3",
      "display_name": "Python 3"
    }
  },
  "cells": [
    {
      "cell_type": "markdown",
      "metadata": {
        "id": "Sgc96kwMM4NO"
      },
      "source": [
        "# Natural Scence Text Detection\n",
        "\n",
        "In this projection we try to find the limitation faced by the Google Tesseract OCR in natural scene scenario. We try to overcome these problems by improving upon the detection of text on the image, then passing it onto the Tesseract OCR for text recognition."
      ]
    },
    {
      "cell_type": "markdown",
      "metadata": {
        "id": "E24DSy6LM3HX"
      },
      "source": [
        ""
      ]
    },
    {
      "cell_type": "code",
      "metadata": {
        "id": "2D2aGrpgIfL0",
        "colab": {
          "base_uri": "https://localhost:8080/"
        },
        "outputId": "b05a34b6-91cf-4a1c-b96a-9c766a9fe970"
      },
      "source": [
        "from google.colab import drive\n",
        "drive.mount('/content/gdrive', force_remount= True)"
      ],
      "execution_count": null,
      "outputs": [
        {
          "output_type": "stream",
          "text": [
            "Mounted at /content/gdrive\n"
          ],
          "name": "stdout"
        }
      ]
    },
    {
      "cell_type": "code",
      "metadata": {
        "id": "LLrZeeeHviI6"
      },
      "source": [
        "#import the necessary packages\n",
        "from imutils.object_detection import non_max_suppression\n",
        "import numpy as np\n",
        "import argparse\n",
        "import time\n",
        "import cv2\n",
        "import matplotlib.pyplot as plt\n",
        "from google.colab.patches import cv2_imshow\n"
      ],
      "execution_count": null,
      "outputs": []
    },
    {
      "cell_type": "code",
      "metadata": {
        "id": "Tnt4jgKN1CXP",
        "colab": {
          "base_uri": "https://localhost:8080/"
        },
        "outputId": "81a1dabd-94a8-4b23-c743-e52ee321b918"
      },
      "source": [
        "!sudo apt install tesseract-ocr\n",
        "!pip install pytesseract"
      ],
      "execution_count": null,
      "outputs": [
        {
          "output_type": "stream",
          "text": [
            "Reading package lists... Done\n",
            "Building dependency tree       \n",
            "Reading state information... Done\n",
            "tesseract-ocr is already the newest version (4.00~git2288-10f4998a-2).\n",
            "0 upgraded, 0 newly installed, 0 to remove and 16 not upgraded.\n",
            "Requirement already satisfied: pytesseract in /usr/local/lib/python3.6/dist-packages (0.3.7)\n",
            "Requirement already satisfied: Pillow in /usr/local/lib/python3.6/dist-packages (from pytesseract) (7.0.0)\n"
          ],
          "name": "stdout"
        }
      ]
    },
    {
      "cell_type": "code",
      "metadata": {
        "id": "xcoiA9qx1NJe"
      },
      "source": [
        "import pytesseract"
      ],
      "execution_count": null,
      "outputs": []
    },
    {
      "cell_type": "code",
      "metadata": {
        "id": "Q5w3RFycJAj7",
        "colab": {
          "base_uri": "https://localhost:8080/"
        },
        "outputId": "e2dfb791-3661-4873-9dda-3b7a02ca469b"
      },
      "source": [
        "image_path = \"/content/gdrive/My Drive/Sample.png\"\n",
        "east_path = \"/content/gdrive/My Drive/frozen_east_text_detection.pb\"\n",
        "min_confidence_path = 0.5\n",
        "height_path = 160\n",
        "width_path = 288\n",
        "\n",
        "\n",
        "print(image_path)\n",
        "print(east_path)"
      ],
      "execution_count": null,
      "outputs": [
        {
          "output_type": "stream",
          "text": [
            "/content/gdrive/My Drive/Sample.png\n",
            "/content/gdrive/My Drive/frozen_east_text_detection.pb\n"
          ],
          "name": "stdout"
        }
      ]
    },
    {
      "cell_type": "code",
      "metadata": {
        "id": "oDQYUlEOvRLe"
      },
      "source": [
        "from google.colab.patches import cv2_imshow"
      ],
      "execution_count": null,
      "outputs": []
    },
    {
      "cell_type": "code",
      "metadata": {
        "id": "dSun1lpE47Az",
        "colab": {
          "base_uri": "https://localhost:8080/",
          "height": 179
        },
        "outputId": "4857bd4f-e024-4b26-9a9b-5616b1e2617e"
      },
      "source": [
        "image = cv2.imread(image_path, cv2.IMREAD_UNCHANGED)\n",
        "cv2_imshow(image)"
      ],
      "execution_count": null,
      "outputs": [
        {
          "output_type": "display_data",
          "data": {
            "image/png": "[encoded data removed]",
            "text/plain": [
              "<PIL.Image.Image image mode=RGB size=310x162 at 0x7FB81EBF3550>"
            ]
          },
          "metadata": {
            "tags": []
          }
        }
      ]
    },
    {
      "cell_type": "code",
      "metadata": {
        "id": "Ev54LOaIwXqW"
      },
      "source": [
        "#load the input image and grab the image dimensions\n",
        "image = cv2.imread(image_path, cv2.IMREAD_UNCHANGED)\n",
        "orig = image.copy()\n",
        "clone1 = image.copy()\n",
        "(H, W) = image.shape[:2]\n",
        "\n",
        "#set the new width and height and then determine the ratio in change\n",
        "#for both the width and height\n",
        "(newW, newH) =  (width_path, height_path)\n",
        "rW = W / float(newW)\n",
        "rH = H / float(newH)\n",
        "\n",
        "#resize the image and grab the new image dimensions\n",
        "image = cv2.resize(image, (newW, newH))\n",
        "(H, W) = image.shape[:2]"
      ],
      "execution_count": null,
      "outputs": []
    },
    {
      "cell_type": "code",
      "metadata": {
        "id": "sRCyg0YgyyM2"
      },
      "source": [
        "#define the two output layer names for the EAST detector model that\n",
        "#we are interested -- the first is the output probabilities and the\n",
        "#second can be used to derive the bounding box coordinates of the text\n",
        "layerNames = [\n",
        "\t\"feature_fusion/Conv_7/Sigmoid\",\n",
        "\t\"feature_fusion/concat_3\"]"
      ],
      "execution_count": null,
      "outputs": []
    },
    {
      "cell_type": "code",
      "metadata": {
        "id": "uD-gOLKIJXfe",
        "colab": {
          "base_uri": "https://localhost:8080/"
        },
        "outputId": "8a5b6c23-d86f-4bc5-dbc2-3e9a47048cb2"
      },
      "source": [
        "#load the per-trained EAST text detector\n",
        "print(\"[INFO] loading EAST text detector...\")\n",
        "net = cv2.dnn.readNet(east_path)\n",
        "\n",
        "#construct a blob from the image and then perform a forward pass of\n",
        "#the model to obtain the two output layer sets\n",
        "blob = cv2.dnn.blobFromImage(image, 1.0, (W, H),\n",
        "                             (123.68, 116.78, 103.94), swapRB = True, crop = False)\n",
        "start = time.time()\n",
        "net.setInput(blob)\n",
        "(scores, geometry) = net.forward(layerNames)\n",
        "end = time.time()\n",
        "\n",
        "#show timing information on text prediction\n",
        "print(\"[INFO] text detection took {:.6f} seconds\".format(end - start))"
      ],
      "execution_count": null,
      "outputs": [
        {
          "output_type": "stream",
          "text": [
            "[INFO] loading EAST text detector...\n",
            "[INFO] text detection took 0.389371 seconds\n"
          ],
          "name": "stdout"
        }
      ]
    },
    {
      "cell_type": "code",
      "metadata": {
        "id": "iDTrshuYlWvm",
        "colab": {
          "base_uri": "https://localhost:8080/"
        },
        "outputId": "5b8753e5-07cc-40be-b8d9-d2235bf6c4aa"
      },
      "source": [
        "print(scores)"
      ],
      "execution_count": null,
      "outputs": [
        {
          "output_type": "stream",
          "text": [
            "[[[[4.1886264e-07 2.0077573e-06 4.4670364e-06 ... 3.9849210e-06\n",
            "    2.1482647e-06 1.8622936e-06]\n",
            "   [1.5127212e-06 3.0874807e-07 8.8943779e-07 ... 1.1859105e-06\n",
            "    8.8358149e-07 1.9864074e-06]\n",
            "   [1.8531165e-06 2.1944189e-07 5.7804579e-07 ... 5.0592353e-06\n",
            "    4.1775243e-07 2.2956192e-06]\n",
            "   ...\n",
            "   [3.7756197e-06 8.5369828e-07 1.0605676e-06 ... 3.7629914e-07\n",
            "    7.0215087e-08 6.9183540e-07]\n",
            "   [1.4936751e-06 8.1154485e-07 4.5102658e-07 ... 2.8961193e-07\n",
            "    2.5181413e-07 1.3859288e-06]\n",
            "   [1.9993940e-06 9.8599052e-08 7.3061869e-08 ... 7.7292361e-07\n",
            "    2.9067667e-07 2.8661855e-08]]]]\n"
          ],
          "name": "stdout"
        }
      ]
    },
    {
      "cell_type": "code",
      "metadata": {
        "id": "t4W07MO2J-2Q"
      },
      "source": [
        "#grab the number of rows and columns from the scores volume, then\n",
        "#initialize our set of bounding box rectangles and corresponding\n",
        "#confidence scores\n",
        "(numRows, numCols) = scores.shape[2:4]\n",
        "rects = []\n",
        "confidences = []\n",
        "\n",
        "#loop over the number of rows\n",
        "for y in range(0, numRows):\n",
        "  #extract the scores (probabilities), followed by the geometrical\n",
        "  #data used to derive potential bounding box coordinated that\n",
        "  #surround text\n",
        "  scoresData = scores[0, 0, y]\n",
        "  xData0 = geometry[0, 0, y]\n",
        "  xData1 = geometry[0, 1, y]\n",
        "  xData2 = geometry[0, 2, y]\n",
        "  xData3 = geometry[0, 3, y]\n",
        "  anglesData = geometry[0, 4, y]\n",
        "  \n",
        "  count = 0\n",
        "  #loop over the number of colums\n",
        "  for x in range(0, numCols):\n",
        "    #if score does not have sufficient probability, ignore it\n",
        "    if scoresData[x] < 0.5:\n",
        "      continue\n",
        "    \n",
        "    #compute the offset factor as our resulting features maps will \n",
        "    #be 4x smaller than the input image\n",
        "    (offsetX, offsetY) = (x * 4.0, y * 4.0)\n",
        "\n",
        "    #extract the rotation angle for the prediction and then\n",
        "    #compute the sine and cosine\n",
        "    angle = anglesData[x]\n",
        "    cos = np.cos(angle)\n",
        "    sin = np.sin(angle)\n",
        "\n",
        "    #use the geometry volume to derive the width and height of the bounding box\n",
        "    h = xData0[x] + xData2[x]\n",
        "    w = xData1[x] + xData3[x]\n",
        "\n",
        "    #compute both the starting and ending (x, y)-coordinates for\n",
        "    #the text prediction bounding box\n",
        "    endX = int(offsetX + (cos * xData1[x]) + (sin * xData2[x]))\n",
        "    endY = int(offsetY - (sin * xData1[x]) + (cos * xData2[x]))\n",
        "    startX = int(endX - w)\n",
        "    startY = int(endY - h)\n",
        "\n",
        "    #add the boundig box coordinates and probability score to \n",
        "    #our respetive lists\n",
        "    rects.append((startX, startY, endX, endY))\n",
        "    confidences.append(scoresData[x])"
      ],
      "execution_count": null,
      "outputs": []
    },
    {
      "cell_type": "code",
      "metadata": {
        "id": "LNL0h22i2waB",
        "colab": {
          "base_uri": "https://localhost:8080/"
        },
        "outputId": "3bb2002e-6763-44a4-8f82-69c814b718cb"
      },
      "source": [
        "print(rects)\n",
        "print(confidences)"
      ],
      "execution_count": null,
      "outputs": [
        {
          "output_type": "stream",
          "text": [
            "[(48, 33, 251, 79), (46, 33, 251, 79), (46, 32, 250, 77), (47, 33, 243, 78), (47, 34, 242, 79), (45, 36, 241, 81), (46, 36, 240, 82), (45, 36, 241, 81), (44, 37, 237, 82), (46, 36, 241, 81), (48, 37, 244, 81), (49, 36, 243, 82), (50, 39, 241, 84), (51, 37, 240, 82), (53, 36, 241, 81), (53, 37, 239, 81), (53, 38, 237, 83), (53, 37, 239, 82), (49, 37, 239, 82), (54, 38, 241, 82), (53, 38, 239, 82), (50, 38, 239, 82), (51, 38, 242, 82), (52, 37, 243, 81), (52, 37, 244, 82), (52, 38, 242, 83), (47, 38, 244, 84), (45, 38, 243, 84), (47, 37, 244, 84), (53, 38, 242, 84), (51, 37, 242, 83), (53, 37, 241, 83), (53, 37, 240, 83), (50, 37, 240, 82), (46, 38, 240, 83), (48, 38, 239, 83), (49, 38, 239, 83), (49, 38, 237, 83), (48, 39, 236, 82), (53, 40, 236, 81), (48, 33, 249, 79), (47, 34, 245, 80), (47, 36, 246, 81), (48, 36, 242, 80), (48, 37, 241, 80), (46, 38, 238, 83), (44, 40, 239, 84), (45, 39, 237, 83), (44, 39, 237, 82), (45, 39, 243, 82), (48, 41, 241, 83), (49, 40, 241, 83), (49, 39, 242, 83), (49, 39, 241, 83), (49, 39, 239, 82), (51, 39, 235, 82), (51, 39, 235, 82), (51, 39, 239, 82), (48, 40, 239, 84), (51, 39, 239, 82), (52, 40, 239, 82), (49, 39, 239, 82), (50, 39, 241, 82), (50, 39, 241, 82), (51, 39, 243, 82), (51, 39, 244, 82), (47, 39, 243, 83), (45, 39, 241, 84), (44, 39, 243, 84), (46, 38, 244, 83), (47, 37, 241, 82), (46, 38, 239, 82), (45, 39, 239, 83), (44, 39, 238, 83), (40, 39, 239, 83), (45, 39, 238, 82), (47, 39, 238, 82), (48, 39, 236, 81), (48, 38, 237, 81), (49, 39, 237, 81), (48, 36, 243, 81), (46, 36, 241, 81), (46, 38, 242, 82), (48, 37, 240, 81), (49, 39, 237, 82), (47, 40, 239, 83), (47, 38, 238, 82), (45, 39, 237, 82), (46, 39, 239, 82), (46, 41, 242, 83), (47, 42, 241, 84), (49, 40, 242, 83), (50, 41, 243, 83), (48, 40, 240, 83), (48, 39, 236, 81), (50, 40, 234, 82), (51, 39, 235, 81), (51, 40, 238, 82), (47, 40, 235, 83), (50, 40, 236, 82), (50, 40, 237, 82), (50, 40, 237, 83), (50, 40, 239, 82), (51, 39, 238, 82), (50, 39, 241, 82), (53, 39, 240, 82), (45, 39, 241, 82), (46, 39, 239, 83), (42, 38, 241, 82), (44, 38, 242, 83), (43, 39, 239, 83), (42, 38, 238, 83), (41, 38, 238, 82), (40, 38, 237, 82), (41, 38, 237, 82), (47, 39, 237, 81), (48, 39, 237, 81), (51, 39, 236, 81), (46, 39, 236, 81), (54, 39, 237, 81), (48, 34, 247, 79), (46, 38, 245, 83), (46, 39, 241, 84), (48, 39, 244, 83), (48, 38, 237, 82), (49, 41, 241, 85), (48, 41, 239, 85), (49, 37, 239, 81), (48, 40, 238, 83), (47, 39, 241, 84), (47, 42, 244, 86), (49, 41, 241, 84), (53, 42, 241, 84), (50, 41, 237, 84), (51, 40, 237, 83), (51, 41, 234, 84), (51, 41, 232, 84), (51, 40, 235, 83), (50, 39, 236, 83), (51, 40, 234, 83), (51, 41, 236, 84), (52, 41, 235, 84), (52, 39, 237, 83), (52, 40, 238, 83), (52, 39, 237, 83), (53, 41, 239, 83), (48, 39, 237, 83), (47, 40, 238, 83), (49, 39, 239, 83), (48, 39, 239, 83), (47, 37, 239, 82), (43, 39, 238, 83), (41, 38, 238, 83), (41, 38, 237, 82), (43, 39, 238, 82), (48, 39, 238, 82), (50, 38, 238, 81), (56, 39, 238, 81), (53, 39, 237, 82), (62, 41, 238, 82), (44, 38, 244, 83), (45, 35, 250, 81), (45, 39, 245, 83), (49, 38, 242, 84), (47, 41, 241, 86), (49, 39, 239, 85), (50, 39, 238, 84), (48, 40, 237, 84), (47, 39, 240, 84), (47, 41, 244, 85), (49, 40, 241, 84), (51, 41, 238, 84), (51, 41, 234, 84), (53, 42, 233, 84), (52, 42, 231, 85), (51, 41, 231, 84), (51, 39, 232, 83), (52, 39, 232, 84), (52, 40, 232, 84), (54, 41, 233, 84), (54, 40, 234, 84), (55, 40, 236, 84), (53, 40, 234, 84), (53, 41, 235, 84), (55, 41, 237, 84), (50, 41, 235, 83), (51, 40, 236, 84), (49, 105, 79, 121), (49, 105, 79, 121), (49, 105, 79, 121), (49, 105, 80, 120), (48, 105, 81, 119), (82, 101, 165, 117), (83, 100, 167, 116), (84, 99, 169, 115), (84, 101, 167, 116), (83, 101, 163, 116), (83, 102, 165, 117), (84, 102, 165, 117), (83, 101, 166, 117), (82, 102, 164, 118), (83, 102, 164, 118), (84, 103, 162, 118), (84, 103, 161, 118), (85, 104, 163, 119), (82, 104, 162, 119), (83, 104, 162, 120), (83, 105, 161, 120), (86, 105, 162, 120), (88, 106, 165, 120), (164, 104, 236, 120), (166, 104, 238, 120), (167, 103, 238, 119), (166, 102, 237, 119), (165, 103, 238, 120), (164, 103, 237, 121), (164, 104, 235, 122), (165, 103, 236, 121), (164, 104, 236, 122), (166, 104, 236, 122), (167, 105, 234, 122), (168, 105, 234, 123), (171, 105, 234, 123), (169, 105, 234, 125), (49, 105, 79, 121), (49, 105, 79, 121), (49, 105, 80, 120), (82, 100, 167, 116), (83, 102, 169, 118), (84, 101, 169, 117), (84, 105, 162, 120), (84, 105, 162, 120), (88, 105, 165, 120), (163, 103, 238, 119), (165, 104, 236, 121), (166, 103, 237, 120), (166, 103, 238, 120), (165, 102, 239, 120), (165, 103, 238, 121), (166, 104, 237, 122), (166, 104, 237, 122), (165, 103, 236, 122), (166, 105, 235, 123), (167, 105, 234, 123), (167, 104, 234, 123), (170, 104, 234, 124), (168, 103, 233, 124)]\n",
            "[0.9982774, 0.9993488, 0.99954396, 0.9995683, 0.999587, 0.99968326, 0.99967074, 0.9996829, 0.99964535, 0.99973994, 0.99970764, 0.9997538, 0.9997384, 0.99967265, 0.9996494, 0.9996008, 0.999676, 0.99969935, 0.9997346, 0.9997055, 0.9996741, 0.9996394, 0.99972373, 0.9997297, 0.9997657, 0.9997619, 0.9997696, 0.99976784, 0.99978954, 0.9997886, 0.99982065, 0.9998293, 0.9998684, 0.99988925, 0.99990296, 0.9999143, 0.9999299, 0.99993384, 0.9999305, 0.99986196, 0.9996948, 0.99987006, 0.9998919, 0.9998977, 0.9999012, 0.9999132, 0.99990356, 0.9999045, 0.99990594, 0.99991834, 0.99991155, 0.99991286, 0.9999062, 0.9998907, 0.9998809, 0.9998723, 0.9998783, 0.99988806, 0.99989927, 0.99990034, 0.9999014, 0.99988747, 0.9999038, 0.9998988, 0.99990034, 0.99990344, 0.9999021, 0.99990237, 0.9999006, 0.99989045, 0.999895, 0.99990964, 0.9999273, 0.9999379, 0.999954, 0.99995375, 0.9999614, 0.99996257, 0.9999559, 0.9998795, 0.99979836, 0.99992156, 0.99993, 0.9999263, 0.9999294, 0.9999387, 0.9999337, 0.99993944, 0.99993956, 0.9999428, 0.9999223, 0.9999318, 0.99993455, 0.99992716, 0.9999269, 0.9999232, 0.9999193, 0.9999207, 0.9999207, 0.9999224, 0.99992704, 0.99991786, 0.99992573, 0.99991155, 0.99990773, 0.99990904, 0.99990726, 0.9999138, 0.99992347, 0.9999083, 0.99990416, 0.9999093, 0.999925, 0.99993193, 0.9999459, 0.99994624, 0.9999447, 0.9999442, 0.9999335, 0.9998167, 0.9997042, 0.99988246, 0.9999043, 0.9998957, 0.999897, 0.9999167, 0.9999107, 0.9999168, 0.99991786, 0.99991655, 0.9998946, 0.9999038, 0.9999174, 0.9999138, 0.99990284, 0.9999064, 0.9999044, 0.9999027, 0.9998957, 0.99989676, 0.9999025, 0.99989855, 0.99990106, 0.99988437, 0.99987483, 0.99987817, 0.999864, 0.999887, 0.9998896, 0.99986434, 0.99983, 0.99984, 0.99984634, 0.9998455, 0.9998554, 0.99984145, 0.9998068, 0.9997819, 0.9997389, 0.999433, 0.7849745, 0.87726235, 0.994831, 0.98468614, 0.9837848, 0.985238, 0.99689424, 0.9994796, 0.9995554, 0.99945503, 0.999361, 0.99919194, 0.9982667, 0.9980269, 0.99832624, 0.9995882, 0.99937624, 0.99822134, 0.9975364, 0.9988193, 0.9994112, 0.9992924, 0.9985416, 0.99831045, 0.985457, 0.9704169, 0.91769534, 0.9984125, 0.9998591, 0.99992335, 0.9998325, 0.9938199, 0.9997454, 0.9999262, 0.99994874, 0.9999443, 0.999936, 0.99991953, 0.9998965, 0.99991834, 0.9999318, 0.9999505, 0.9999598, 0.9999658, 0.9999633, 0.9999585, 0.9999598, 0.999949, 0.9997843, 0.9919344, 0.9997867, 0.9998523, 0.99979275, 0.9996996, 0.99977595, 0.9997991, 0.9998424, 0.9998204, 0.9998105, 0.99983, 0.99982965, 0.9997999, 0.9995828, 0.99923086, 0.9810126, 0.9991793, 0.99974376, 0.7487297, 0.9985752, 0.97548735, 0.99796706, 0.99976176, 0.74314886, 0.9994758, 0.99989724, 0.99985886, 0.99970704, 0.9993748, 0.99977213, 0.99986875, 0.9999002, 0.99991095, 0.99991786, 0.9999249, 0.9999273, 0.9999119, 0.9998467]\n"
          ],
          "name": "stdout"
        }
      ]
    },
    {
      "cell_type": "code",
      "metadata": {
        "id": "NvwmBPIKVdfr",
        "colab": {
          "base_uri": "https://localhost:8080/",
          "height": 263
        },
        "outputId": "94d70c59-5832-4a5a-e804-cdffbad46b12"
      },
      "source": [
        "#apply non_max_suppresion to supress weak, overlapping bounding boxes\n",
        "boxes = non_max_suppression(np.array(rects), probs = confidences)\n",
        "print(boxes)\n",
        "roi = []\n",
        "#loop over the bounding boxes\n",
        "for (startX, startY, endX, endY) in boxes:\n",
        "  #scale the bounding box coordinates based on the respective ratios\n",
        "  startX = int(startX * rW)\n",
        "  startY = int(startY * rH)\n",
        "  endX = int(endX * rW)\n",
        "  endY = int(endY * rH)\n",
        "\n",
        "  #draw the bounding box on the image\n",
        "  cv2.rectangle(orig, (startX, startY), (endX, endY), (0, 255 , 0), 2)\n",
        "  roi.append([startY, endY, startX, endX])\n",
        "\n",
        "#show the output image\n",
        "cv2_imshow(orig)\n",
        "cv2.waitKey(0)\n",
        "\n",
        "print(roi)"
      ],
      "execution_count": null,
      "outputs": [
        {
          "output_type": "stream",
          "text": [
            "[[ 84 103 161 118]\n",
            " [ 48  39 236  81]\n",
            " [167 104 234 123]\n",
            " [ 49 105  79 121]]\n"
          ],
          "name": "stdout"
        },
        {
          "output_type": "display_data",
          "data": {
            "image/png": "[encoded data removed]",
            "text/plain": [
              "<PIL.Image.Image image mode=RGB size=310x162 at 0x7FB81EBF32E8>"
            ]
          },
          "metadata": {
            "tags": []
          }
        },
        {
          "output_type": "stream",
          "text": [
            "[[104, 119, 90, 173], [39, 82, 51, 254], [105, 124, 179, 251], [106, 122, 52, 85]]\n"
          ],
          "name": "stdout"
        }
      ]
    },
    {
      "cell_type": "code",
      "metadata": {
        "id": "-maNJGKw1BpF",
        "colab": {
          "base_uri": "https://localhost:8080/",
          "height": 314
        },
        "outputId": "a8ad5611-d114-4e06-f3e5-1685e00a10da"
      },
      "source": [
        "for i in roi:\n",
        "  temp = orig[i[0]:i[1], i[2]:i[3]]\n",
        "  cv2_imshow(temp)\n",
        "  print(i)\n",
        "  cus_config = r'--oem 3 --psm 6'\n",
        "  text = pytesseract.image_to_string(temp, config= cus_config)\n",
        "  print(text)"
      ],
      "execution_count": null,
      "outputs": [
        {
          "output_type": "display_data",
          "data": {
            "image/png": "[encoded data removed]",
            "text/plain": [
              "<PIL.Image.Image image mode=RGB size=83x15 at 0x7FB81F44DE48>"
            ]
          },
          "metadata": {
            "tags": []
          }
        },
        {
          "output_type": "stream",
          "text": [
            "[104, 119, 90, 173]\n",
            "er\n",
            "\f\n"
          ],
          "name": "stdout"
        },
        {
          "output_type": "display_data",
          "data": {
            "image/png": "[encoded data removed]",
            "text/plain": [
              "<PIL.Image.Image image mode=RGB size=203x43 at 0x7FB81F44DF60>"
            ]
          },
          "metadata": {
            "tags": []
          }
        },
        {
          "output_type": "stream",
          "text": [
            "[39, 82, 51, 254]\n",
            "opentext\n",
            "\f\n"
          ],
          "name": "stdout"
        },
        {
          "output_type": "display_data",
          "data": {
            "image/png": "[encoded data removed]",
            "text/plain": [
              "<PIL.Image.Image image mode=RGB size=72x19 at 0x7FB81F44DE48>"
            ]
          },
          "metadata": {
            "tags": []
          }
        },
        {
          "output_type": "stream",
          "text": [
            "[105, 124, 179, 251]\n",
            "Company\n",
            "\f\n"
          ],
          "name": "stdout"
        },
        {
          "output_type": "display_data",
          "data": {
            "image/png": "[encoded data removed]",
            "text/plain": [
              "<PIL.Image.Image image mode=RGB size=33x16 at 0x7FB81F44DEB8>"
            ]
          },
          "metadata": {
            "tags": []
          }
        },
        {
          "output_type": "stream",
          "text": [
            "[106, 122, 52, 85]\n",
            "The\n",
            "\f\n"
          ],
          "name": "stdout"
        }
      ]
    },
    {
      "cell_type": "markdown",
      "metadata": {
        "id": "a7L7ivgsHLsC"
      },
      "source": [
        "<h1> Comparsion with Unsegmented Tesseract OCR"
      ]
    },
    {
      "cell_type": "code",
      "metadata": {
        "id": "6hrcnmaSHc3n",
        "colab": {
          "base_uri": "https://localhost:8080/",
          "height": 230
        },
        "outputId": "80d6fec5-e8ec-4d29-d743-58e8e41c5a87"
      },
      "source": [
        "cus_config = r'--oem 3 --psm 6'\n",
        "newImg = clone1.copy()\n",
        "text = pytesseract.image_to_string(newImg, config= cus_config)\n",
        "cv2_imshow(newImg)\n",
        "print(text)"
      ],
      "execution_count": null,
      "outputs": [
        {
          "output_type": "display_data",
          "data": {
            "image/png": "[encoded data removed]",
            "text/plain": [
              "<PIL.Image.Image image mode=RGB size=310x162 at 0x7FB81E396358>"
            ]
          },
          "metadata": {
            "tags": []
          }
        },
        {
          "output_type": "stream",
          "text": [
            "opentext”\n",
            "SiMe keel\n",
            "\f\n"
          ],
          "name": "stdout"
        }
      ]
    },
    {
      "cell_type": "code",
      "metadata": {
        "id": "yN9s6orf_dEE",
        "colab": {
          "base_uri": "https://localhost:8080/",
          "height": 230
        },
        "outputId": "0aabdae4-e413-44b9-9c21-d181d8db5a44"
      },
      "source": [
        "#Converting to grey scale\n",
        "cus_config = r'--oem 3 --psm 6'\n",
        "newImg = cv2.cvtColor(clone1, cv2.COLOR_BGR2GRAY)\n",
        "text = pytesseract.image_to_string(newImg, config= cus_config)\n",
        "cv2_imshow(newImg)\n",
        "print(text)"
      ],
      "execution_count": null,
      "outputs": [
        {
          "output_type": "display_data",
          "data": {
            "image/png": "[encoded data removed]",
            "text/plain": [
              "<PIL.Image.Image image mode=L size=310x162 at 0x7FB81E396320>"
            ]
          },
          "metadata": {
            "tags": []
          }
        },
        {
          "output_type": "stream",
          "text": [
            "opentext”\n",
            "TM keenT\n",
            "\f\n"
          ],
          "name": "stdout"
        }
      ]
    },
    {
      "cell_type": "code",
      "metadata": {
        "id": "0cA81O18GJZh",
        "colab": {
          "base_uri": "https://localhost:8080/",
          "height": 213
        },
        "outputId": "425af5aa-4465-4e2c-f844-21180cd59832"
      },
      "source": [
        "cus_config = r'--oem 3 --psm 6'\n",
        "\n",
        "#Converting to greyscale\n",
        "newImg = cv2.cvtColor(clone1, cv2.COLOR_BGR2GRAY)\n",
        "\n",
        "#Thresholding\n",
        "threshImg = cv2.threshold(newImg, 0, 255, cv2.THRESH_BINARY + cv2.THRESH_OTSU)[1]\n",
        "\n",
        "#Eroding\n",
        "kernel = np.ones((5,5),np.uint8)\n",
        "eroImg = cv2.erode(newImg, kernel, iterations = 1)\n",
        "\n",
        "text = pytesseract.image_to_string(eroImg, config= cus_config)\n",
        "\n",
        "cv2_imshow(eroImg)\n",
        "print(text)"
      ],
      "execution_count": null,
      "outputs": [
        {
          "output_type": "display_data",
          "data": {
            "image/png": "[encoded data removed]",
            "text/plain": [
              "<PIL.Image.Image image mode=L size=310x162 at 0x7FB81E396C88>"
            ]
          },
          "metadata": {
            "tags": []
          }
        },
        {
          "output_type": "stream",
          "text": [
            "opentext\n",
            "\f\n"
          ],
          "name": "stdout"
        }
      ]
    },
    {
      "cell_type": "code",
      "metadata": {
        "id": "g1wrpbEGBGNX",
        "colab": {
          "base_uri": "https://localhost:8080/",
          "height": 35
        },
        "outputId": "2b8b46fb-1cd9-482d-89fe-e9ad712e05a4"
      },
      "source": [
        "r'--oem 3 --psm 6'\n",
        "\n",
        "(\"-l eng --oen 2 --pam 12\")"
      ],
      "execution_count": null,
      "outputs": [
        {
          "output_type": "execute_result",
          "data": {
            "application/vnd.google.colaboratory.intrinsic+json": {
              "type": "string"
            },
            "text/plain": [
              "'-l eng --oen 2 --pam 12'"
            ]
          },
          "metadata": {
            "tags": []
          },
          "execution_count": 18
        }
      ]
    },
    {
      "cell_type": "code",
      "metadata": {
        "id": "PusnzSCSC0ps"
      },
      "source": [
        ""
      ],
      "execution_count": null,
      "outputs": []
    }
  ]
}